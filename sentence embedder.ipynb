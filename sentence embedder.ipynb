{
 "cells": [
  {
   "cell_type": "code",
   "execution_count": null,
   "metadata": {},
   "outputs": [],
   "source": [
    "import io\n",
    "import os\n",
    "import operator\n",
    "import gensim\n"
   ]
  },
  {
   "cell_type": "markdown",
   "metadata": {},
   "source": [
    "**Loading pre-trained common-space embeddings**"
   ]
  },
  {
   "cell_type": "code",
   "execution_count": null,
   "metadata": {},
   "outputs": [],
   "source": [
    "src_path = '/Users/leonardo/desktop/embeddings/wiki.en.align.vec'\n",
    "tgt_path = '/Users/leonardo/desktop/embeddings/wiki.es.align.vec'\n",
    "nmax = 100000  \n",
    "src_model = gensim.models.KeyedVectors.load_word2vec_format(src_path,limit = nmax)\n",
    "tgt_model = gensim.models.KeyedVectors.load_word2vec_format(tgt_path,limit = nmax)"
   ]
  },
  {
   "cell_type": "markdown",
   "metadata": {},
   "source": [
    "**Opening text file and transforming tokens into a list**"
   ]
  },
  {
   "cell_type": "code",
   "execution_count": null,
   "metadata": {},
   "outputs": [],
   "source": [
    "text_en = open(\"/Users/leonardo/desktop/embedding_align/teste2.txt\",\"r\",encoding=\"utf8\").read() #tokenized text\n",
    "text_en = text_en.split('￭')\n",
    "\n"
   ]
  },
  {
   "cell_type": "markdown",
   "metadata": {},
   "source": [
    " **Transforming Sentences To Embeddings**"
   ]
  },
  {
   "cell_type": "code",
   "execution_count": null,
   "metadata": {},
   "outputs": [],
   "source": [
    "em_list = []\n",
    "\n",
    "for sentences in text_en:                                                                      \n",
    "    first_word = 0\n",
    "    sentences = sentences.split(' ')\n",
    "    for word in sentences:                                 \n",
    "        if (first_word == 0):\n",
    "            word_emb = src_model[word]\n",
    "            first_word = 1\n",
    "        else:\n",
    "            word_emb = word_emb + src_model[word]   \n",
    "                \n",
    "        \n",
    "    em_list.append(word_emb)\n",
    "    "
   ]
  }
 ],
 "metadata": {
  "kernelspec": {
   "display_name": "Python 3",
   "language": "python",
   "name": "python3"
  },
  "language_info": {
   "codemirror_mode": {
    "name": "ipython",
    "version": 3
   },
   "file_extension": ".py",
   "mimetype": "text/x-python",
   "name": "python",
   "nbconvert_exporter": "python",
   "pygments_lexer": "ipython3",
   "version": "3.7.1"
  }
 },
 "nbformat": 4,
 "nbformat_minor": 2
}
