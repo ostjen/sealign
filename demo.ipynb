{
 "cells": [
  {
   "cell_type": "code",
   "execution_count": 2,
   "metadata": {},
   "outputs": [
    {
     "name": "stderr",
     "output_type": "stream",
     "text": [
      "C:\\Users\\Linda\\Anaconda3\\lib\\site-packages\\gensim\\utils.py:1197: UserWarning: detected Windows; aliasing chunkize to chunkize_serial\n",
      "  warnings.warn(\"detected Windows; aliasing chunkize to chunkize_serial\")\n"
     ]
    }
   ],
   "source": [
    "import numpy as np\n",
    "import gensim\n",
    "import scipy \n",
    "from scipy import spatial\n"
   ]
  },
  {
   "cell_type": "markdown",
   "metadata": {},
   "source": [
    "**Loading pre-trained common-space embeddings**"
   ]
  },
  {
   "cell_type": "code",
   "execution_count": 5,
   "metadata": {},
   "outputs": [],
   "source": [
    "src_path = '~/desktop/embeddings/wiki.en.align.vec'\n",
    "tgt_path = '~/desktop/embeddings/wiki.es.align.vec'\n",
    "nmax = 100000  \n",
    "src_model = gensim.models.KeyedVectors.load_word2vec_format(src_path,limit = nmax)\n",
    "tgt_model = gensim.models.KeyedVectors.load_word2vec_format(tgt_path,limit = nmax)"
   ]
  },
  {
   "cell_type": "markdown",
   "metadata": {},
   "source": [
    "**Removing Stop-Words(def + example)**"
   ]
  },
  {
   "cell_type": "code",
   "execution_count": 4,
   "metadata": {},
   "outputs": [],
   "source": [
    "def stop_words(sentence,language):\n",
    "    from nltk.corpus import stopwords \n",
    "    stop_words = set(stopwords.words(language)) \n",
    "    filtered_sentence = [w for w in sentence if not w in stop_words] \n",
    "    return filtered_sentence"
   ]
  },
  {
   "cell_type": "code",
   "execution_count": 5,
   "metadata": {},
   "outputs": [],
   "source": [
    "import nltk"
   ]
  },
  {
   "cell_type": "code",
   "execution_count": 6,
   "metadata": {
    "scrolled": false
   },
   "outputs": [
    {
     "name": "stdout",
     "output_type": "stream",
     "text": [
      "before stopwords - \n",
      "['i', 'love', 'to', 'play', 'soccer', 'but', 'only', 'on', 'mondays', 'and', 'if', 'its', 'rainy']\n",
      "\n",
      "after stopwords -\n",
      "['love', 'play', 'soccer', 'mondays', 'rainy']\n"
     ]
    }
   ],
   "source": [
    "##EXAMPLE \n",
    "before = ['i','love','to','play','soccer','but','only','on','mondays','and','if','its','rainy']\n",
    "print('before stopwords - ')\n",
    "print(before)\n",
    "print('\\nafter stopwords -')\n",
    "print(stop_words(before,'english'))\n"
   ]
  },
  {
   "cell_type": "markdown",
   "metadata": {},
   "source": [
    " **Transforming Sentences To Embeddings**"
   ]
  },
  {
   "cell_type": "code",
   "execution_count": 9,
   "metadata": {},
   "outputs": [],
   "source": [
    "def embedder(sentence,language):                                                                     \n",
    "    first_word = 0 \n",
    "    sentence = sentence.split(' ')\n",
    "    sentence = stop_words(sentence,language)\n",
    "    for word in sentence:                                 \n",
    "        if (first_word == 0):\n",
    "            if(language == 'english'):\n",
    "                word_emb = src_model[word]\n",
    "            else:\n",
    "                word_emb = tgt_model[word]\n",
    "            first_word = 1\n",
    "        \n",
    "        else:\n",
    "            if(language == 'english'):\n",
    "                word_emb = word_emb + src_model[word]   \n",
    "            else:\n",
    "                word_emb = word_emb + tgt_model[word]\n",
    "    return word_emb\n",
    "    "
   ]
  },
  {
   "cell_type": "code",
   "execution_count": 10,
   "metadata": {},
   "outputs": [],
   "source": [
    "def transformer(sentence1,sentence2,stat):\n",
    "    \n",
    "    emb1 = embedder(sentence1,'english')\n",
    "    emb2 = embedder(sentence2,'spanish')\n",
    "    distance = spatial.distance.cosine(emb1,emb2)\n",
    "    if(stat == 'similarity'):\n",
    "        return(1-distance)\n",
    "    elif(stat == 'distance'):\n",
    "        return(distance) "
   ]
  },
  {
   "cell_type": "markdown",
   "metadata": {},
   "source": [
    " **Visualization**"
   ]
  },
  {
   "cell_type": "code",
   "execution_count": 11,
   "metadata": {},
   "outputs": [],
   "source": [
    "import matplotlib.pyplot as plt"
   ]
  },
  {
   "cell_type": "code",
   "execution_count": 12,
   "metadata": {},
   "outputs": [],
   "source": [
    "sentences_en = ['the book is on the table','wikipedia is an encyclopedia','please allow me to introduce myself i am a man of wealth and taste']\n",
    "sentences_es = ['el libro esta en la mesa','wikipedia es una enciclopedia','por favor deja que me presente soy un hombre de dinero y buen gusto']\n",
    "compare = []\n",
    "for i in range(0,len(sentences_en)):\n",
    "    for j in range(0,len(sentences_en)):\n",
    "        compare.append(transformer(sentences_en[i],sentences_es[j],'similarity'))\n",
    "s1 = np.array(compare[:3])\n",
    "s2 = np.array(compare[3:6])\n",
    "s3 = np.array(compare[6:9])\n"
   ]
  },
  {
   "cell_type": "code",
   "execution_count": 13,
   "metadata": {},
   "outputs": [],
   "source": [
    "def plotter(sentences_en,sentences_es,values , index):\n",
    "    s_en = np.array(sentences_en)\n",
    "    s_es = np.array(sentences_es)\n",
    "    sizer = sentences_es\n",
    "    k=0\n",
    "    for item in sizer:\n",
    "        if(len(item)>40):\n",
    "            new = item[:40] +'...'\n",
    "            sizer[k] = new\n",
    "        k+=1\n",
    "    fig,ax = plt.subplots()\n",
    "    y_pos = np.arange(len(s_en))\n",
    "    ax.barh(y_pos,values, align='center',color='blue', ecolor='black')\n",
    "    ax.set_yticks(y_pos)\n",
    "    ax.set_yticklabels(s_es,fontsize = 8)\n",
    "    plt.title(sentences_en[index])\n",
    "    plt.show()"
   ]
  },
  {
   "cell_type": "code",
   "execution_count": 14,
   "metadata": {},
   "outputs": [
    {
     "data": {
      "image/png": "[encoded data removed]",
      "text/plain": [
       "<Figure size 432x288 with 1 Axes>"
      ]
     },
     "metadata": {
      "needs_background": "light"
     },
     "output_type": "display_data"
    }
   ],
   "source": [
    "plotter(sentences_en,sentences_es,s1,0)"
   ]
  },
  {
   "cell_type": "code",
   "execution_count": 15,
   "metadata": {},
   "outputs": [
    {
     "data": {
      "image/png": "[encoded data removed]",
      "text/plain": [
       "<Figure size 432x288 with 1 Axes>"
      ]
     },
     "metadata": {
      "needs_background": "light"
     },
     "output_type": "display_data"
    }
   ],
   "source": [
    "plotter(sentences_en,sentences_es,s2,1)"
   ]
  },
  {
   "cell_type": "code",
   "execution_count": 16,
   "metadata": {},
   "outputs": [
    {
     "data": {
      "image/png": "[encoded data removed]",
      "text/plain": [
       "<Figure size 432x288 with 1 Axes>"
      ]
     },
     "metadata": {
      "needs_background": "light"
     },
     "output_type": "display_data"
    }
   ],
   "source": [
    "plotter(sentences_en,sentences_es,s3,2)"
   ]
  },
  {
   "cell_type": "markdown",
   "metadata": {},
   "source": [
    " "
   ]
  }
 ],
 "metadata": {
  "kernelspec": {
   "display_name": "Python 3",
   "language": "python",
   "name": "python3"
  },
  "language_info": {
   "codemirror_mode": {
    "name": "ipython",
    "version": 3
   },
   "file_extension": ".py",
   "mimetype": "text/x-python",
   "name": "python",
   "nbconvert_exporter": "python",
   "pygments_lexer": "ipython3",
   "version": "3.7.1"
  }
 },
 "nbformat": 4,
 "nbformat_minor": 2
}
