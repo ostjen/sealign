{
 "cells": [
  {
   "cell_type": "code",
   "execution_count": null,
   "metadata": {},
   "outputs": [],
   "source": [
    "##will soon become a python file\n",
    "\n",
    "import numpy as np\n",
    "import gensim \n",
    "import nltk\n",
    "import scipy\n",
    "from scipy import spatial"
   ]
  },
  {
   "cell_type": "code",
   "execution_count": null,
   "metadata": {},
   "outputs": [],
   "source": [
    "from nltk import word_tokenize\n",
    "from nltk.corpus import stopwords"
   ]
  },
  {
   "cell_type": "code",
   "execution_count": null,
   "metadata": {},
   "outputs": [],
   "source": [
    "def stop_words(sentence,language):\n",
    "    stopWords = set(stopwords.words('english'))\n",
    "    wordsFiltered = []\n",
    "    words = sentence.split(' ')\n",
    "    for w in words:\n",
    "        #remove manually words with single quote\n",
    "        if w == \"you're\" or w == \"i'll\" or w == \"we're\" or w == \"i'm\" or w == \"he's\" or w == \"she's\" or w == \"they're\" :\n",
    "            pass\n",
    "        elif w not in stopWords:\n",
    "            wordsFiltered.append(w)\n",
    "    return wordsFiltered"
   ]
  },
  {
   "cell_type": "code",
   "execution_count": null,
   "metadata": {
    "scrolled": false
   },
   "outputs": [],
   "source": [
    "#Load text and treat\n",
    "def load_care(path): \n",
    "    index = 0\n",
    "    fp = open(path).read()\n",
    "    aux = fp.split('*')\n",
    "    text_en = []\n",
    "    for item in aux:\n",
    "        stringlist = []\n",
    "        item = item.replace(\"'\",'')\n",
    "        for letter in item:  \n",
    "            if letter == ',' or letter == '.' or letter == ';' or letter == '(' or letter == ')' or letter == '/' or letter == '\"\"\"' or letter == '\"\\\"' or letter == '\"' or letter == '?' or letter == '!':\n",
    "                letter = ''\n",
    "            elif letter.isdigit() == True:\n",
    "                letter = ''\n",
    "            stringlist.append(letter)\n",
    "        text_en.append(''.join(stringlist))\n",
    "        index = index + 1\n",
    "    return text_en\n"
   ]
  },
  {
   "cell_type": "code",
   "execution_count": null,
   "metadata": {},
   "outputs": [],
   "source": [
    "en_tt = load_care('./teste_en.txt')                     #english treated text\n",
    "es_tt = load_care('./teste_es.txt')"
   ]
  },
  {
   "cell_type": "code",
   "execution_count": null,
   "metadata": {},
   "outputs": [],
   "source": [
    "src_path = '~/desktop/embeddings/wiki.en.align.vec'\n",
    "tgt_path = '~/desktop/embeddings/wiki.es.align.vec'\n",
    "nmax = 100000  \n",
    "src_model = gensim.models.KeyedVectors.load_word2vec_format(src_path,limit = nmax)\n",
    "tgt_model = gensim.models.KeyedVectors.load_word2vec_format(tgt_path,limit = nmax)"
   ]
  },
  {
   "cell_type": "code",
   "execution_count": null,
   "metadata": {},
   "outputs": [],
   "source": [
    "def embedder(sentence,language):                                                                     \n",
    "    first_word = 0 \n",
    "    sentence_test = stop_words(sentence,language)\n",
    "    if len(sentence_test)>1:\n",
    "        sentence = sentence_test\n",
    "    for word in sentence:                                 \n",
    "        if first_word == 0:\n",
    "            if language == 'english':\n",
    "                if word in src_model.vocab:\n",
    "                    word_emb = src_model[word]\n",
    "                    first_word = 1\n",
    "            else:\n",
    "                if word in tgt_model.vocab:\n",
    "                    word_emb = tgt_model[word]\n",
    "                    first_word = 1\n",
    "    \n",
    "        \n",
    "        else:\n",
    "            if(language == 'english'):\n",
    "                if word in src_model.vocab:\n",
    "                    word_emb = word_emb + src_model[word]   \n",
    "            else:\n",
    "                if word in tgt_model.vocab:\n",
    "                    word_emb = word_emb + tgt_model[word]\n",
    "    return word_emb\n",
    "    "
   ]
  },
  {
   "cell_type": "code",
   "execution_count": null,
   "metadata": {},
   "outputs": [],
   "source": [
    "def sentence_embedder(sentence_list,language):\n",
    "    emb = []\n",
    "    i = 0\n",
    "    for sentence in sentence_list:\n",
    "        print(sentence + '\\n')\n",
    "        save_last = sentence\n",
    "        if(len(sentence)>1):\n",
    "            emb.append(embedder(sentence,language))\n",
    "        i+=1\n",
    "        print(i)\n",
    "    return emb"
   ]
  },
  {
   "cell_type": "code",
   "execution_count": null,
   "metadata": {},
   "outputs": [],
   "source": [
    "sentence_embedder(en_tt,'english')"
   ]
  },
  {
   "cell_type": "code",
   "execution_count": null,
   "metadata": {},
   "outputs": [],
   "source": []
  }
 ],
 "metadata": {
  "kernelspec": {
   "display_name": "Python 3",
   "language": "python",
   "name": "python3"
  },
  "language_info": {
   "codemirror_mode": {
    "name": "ipython",
    "version": 3
   },
   "file_extension": ".py",
   "mimetype": "text/x-python",
   "name": "python",
   "nbconvert_exporter": "python",
   "pygments_lexer": "ipython3",
   "version": "3.7.1"
  }
 },
 "nbformat": 4,
 "nbformat_minor": 2
}
