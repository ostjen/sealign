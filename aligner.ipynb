{
 "cells": [
  {
   "cell_type": "code",
   "execution_count": 1,
   "metadata": {},
   "outputs": [
    {
     "name": "stderr",
     "output_type": "stream",
     "text": [
      "C:\\Users\\Linda\\Anaconda3\\lib\\site-packages\\gensim\\utils.py:1197: UserWarning: detected Windows; aliasing chunkize to chunkize_serial\n",
      "  warnings.warn(\"detected Windows; aliasing chunkize to chunkize_serial\")\n"
     ]
    }
   ],
   "source": [
    "##will soon become a python file\n",
    "\n",
    "import numpy as np\n",
    "import gensim \n",
    "import nltk"
   ]
  },
  {
   "cell_type": "code",
   "execution_count": 2,
   "metadata": {},
   "outputs": [],
   "source": [
    "def stop_words(sentence,language):\n",
    "    from nltk import word_tokenize\n",
    "    from nltk.corpus import stopwords\n",
    "    stop = set(stopwords.words('english'))\n",
    "    return([i for i in sentence.lower().split() if i not in stop])\n",
    "    [i for i in word_tokenize(sentence.lower()) if i not in stop] \n"
   ]
  },
  {
   "cell_type": "code",
   "execution_count": 3,
   "metadata": {
    "scrolled": false
   },
   "outputs": [],
   "source": [
    "#Load text and treat\n",
    "def load_care(path): \n",
    "    fp = open(path).read()\n",
    "    aux = fp.split('*')\n",
    "    text_en = []\n",
    "    for item in aux:\n",
    "        stringlist = []\n",
    "        for letter in item:\n",
    "            if letter == ',' or letter == '.' or letter == ';' or letter == '(' or letter == ')' or letter == '/' or letter == '\"\"\"' or letter == '\"\\\"' or letter == '\"':\n",
    "                letter = ''\n",
    "            elif letter.isdigit() == True:\n",
    "                letter = ''\n",
    "            stringlist.append(letter)\n",
    "        text_en.append(''.join(stringlist))\n",
    "    return text_en\n"
   ]
  },
  {
   "cell_type": "code",
   "execution_count": 4,
   "metadata": {},
   "outputs": [],
   "source": [
    "retorno = load_care('./teste_en.txt')"
   ]
  },
  {
   "cell_type": "code",
   "execution_count": 5,
   "metadata": {},
   "outputs": [],
   "source": [
    "src_path = '~/desktop/embeddings/wiki.en.align.vec'\n",
    "tgt_path = '~/desktop/embeddings/wiki.es.align.vec'\n",
    "nmax = 100000  \n",
    "src_model = gensim.models.KeyedVectors.load_word2vec_format(src_path,limit = nmax)\n",
    "tgt_model = gensim.models.KeyedVectors.load_word2vec_format(tgt_path,limit = nmax)"
   ]
  },
  {
   "cell_type": "code",
   "execution_count": 7,
   "metadata": {},
   "outputs": [],
   "source": [
    "i =0\n",
    "for item in retorno:\n",
    "    if src_model.vocab == True:\n",
    "        item = stop_words(item,'english')\n",
    "        print(i)\n",
    "        embedder(item,'english')\n",
    "    "
   ]
  },
  {
   "cell_type": "code",
   "execution_count": 6,
   "metadata": {},
   "outputs": [],
   "source": [
    "def embedder(sentence,language):                                                                     \n",
    "    first_word = 0 \n",
    "    for word in sentence:                                 \n",
    "        if (first_word == 0):\n",
    "            if(language == 'english'):\n",
    "                word_emb = src_model[word]\n",
    "            else:\n",
    "                word_emb = tgt_model[word]\n",
    "            first_word = 1\n",
    "        \n",
    "        else:\n",
    "            if(language == 'english'):\n",
    "                word_emb = word_emb + src_model[word]   \n",
    "            else:\n",
    "                word_emb = word_emb + tgt_model[word]\n",
    "    return word_emb"
   ]
  },
  {
   "cell_type": "code",
   "execution_count": null,
   "metadata": {},
   "outputs": [],
   "source": []
  },
  {
   "cell_type": "code",
   "execution_count": null,
   "metadata": {},
   "outputs": [],
   "source": []
  }
 ],
 "metadata": {
  "kernelspec": {
   "display_name": "Python 3",
   "language": "python",
   "name": "python3"
  },
  "language_info": {
   "codemirror_mode": {
    "name": "ipython",
    "version": 3
   },
   "file_extension": ".py",
   "mimetype": "text/x-python",
   "name": "python",
   "nbconvert_exporter": "python",
   "pygments_lexer": "ipython3",
   "version": "3.7.1"
  }
 },
 "nbformat": 4,
 "nbformat_minor": 2
}
