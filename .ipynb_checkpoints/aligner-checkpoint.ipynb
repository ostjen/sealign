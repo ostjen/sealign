{
 "cells": [
  {
   "cell_type": "code",
   "execution_count": 1,
   "metadata": {},
   "outputs": [
    {
     "name": "stderr",
     "output_type": "stream",
     "text": [
      "C:\\Users\\Linda\\Anaconda3\\lib\\site-packages\\gensim\\utils.py:1197: UserWarning: detected Windows; aliasing chunkize to chunkize_serial\n",
      "  warnings.warn(\"detected Windows; aliasing chunkize to chunkize_serial\")\n"
     ]
    }
   ],
   "source": [
    "##will soon become a python file\n",
    "\n",
    "import numpy as np\n",
    "import gensim \n",
    "import nltk\n",
    "import scipy\n",
    "from scipy import spatial"
   ]
  },
  {
   "cell_type": "code",
   "execution_count": 2,
   "metadata": {},
   "outputs": [],
   "source": [
    "from nltk import word_tokenize\n",
    "from nltk.corpus import stopwords"
   ]
  },
  {
   "cell_type": "code",
   "execution_count": 3,
   "metadata": {},
   "outputs": [],
   "source": [
    "def stop_words(sentence,language):\n",
    "    stopWords = set(stopwords.words('english'))\n",
    "    wordsFiltered = []\n",
    "    words = sentence.split(' ')\n",
    "    for w in words:\n",
    "        #remove manually words with single quote\n",
    "        if w == \"you're\" or w == \"i'll\" or w == \"we're\" or w == \"i'm\" or w == \"he's\" or w == \"she's\" or w == \"they're\" :\n",
    "            pass\n",
    "        elif w not in stopWords:\n",
    "            wordsFiltered.append(w)\n",
    "    return wordsFiltered"
   ]
  },
  {
   "cell_type": "code",
   "execution_count": 4,
   "metadata": {
    "scrolled": false
   },
   "outputs": [],
   "source": [
    "#Load text and treat\n",
    "def load_care(path): \n",
    "    text_en = []\n",
    "    aux = open(path,encoding = 'utf8').readlines()\n",
    "    for item in aux:\n",
    "        item = item.lower()\n",
    "        stringlist = []\n",
    "        item = item.replace(\"'\",'')\n",
    "        for letter in item:  \n",
    "            if letter == ',' or letter == '.' or letter == ';' or letter == '(' or letter == ')' or letter == '/' or letter == '\"\"\"' or letter == '\"\\\"' or letter == '\"' or letter == '?' or letter == '!':\n",
    "                letter = ''\n",
    "            elif letter.isdigit() == True:\n",
    "                letter = ''\n",
    "            stringlist.append(letter)\n",
    "        text_en.append(''.join(stringlist))\n",
    "        \n",
    "    return text_en\n"
   ]
  },
  {
   "cell_type": "code",
   "execution_count": 5,
   "metadata": {},
   "outputs": [],
   "source": [
    "src_path = '~/desktop/embeddings/wiki.en.align.vec'\n",
    "tgt_path = '~/desktop/embeddings/wiki.de.align.vec'\n",
    "nmax = 150000  \n",
    "src_model = gensim.models.KeyedVectors.load_word2vec_format(src_path,limit = nmax)\n",
    "tgt_model = gensim.models.KeyedVectors.load_word2vec_format(tgt_path,limit = nmax)"
   ]
  },
  {
   "cell_type": "code",
   "execution_count": 6,
   "metadata": {},
   "outputs": [],
   "source": [
    "def embedder(sentence,model,language):                                                                     \n",
    "    first_word = 0 \n",
    "    word_emb = []\n",
    "    sentence_test = stop_words(sentence,language)\n",
    "    if len(sentence_test)>1:                              #do not apply stopwords for really short sentences\n",
    "        sentence = sentence_test\n",
    "    \n",
    "    for word in sentence[:len(sentence)-2]:               #delete \\n -> last 2 chars                                \n",
    "        if first_word == 0: \n",
    "            if word in model:\n",
    "                word_emb = model[word]\n",
    "                first_word = 1\n",
    "        else:\n",
    "            if word in model:\n",
    "                word_emb = word_emb + model[word]   \n",
    "    \n",
    "    return  word_emb    #np.append(word_emb,len(sentence))  returns the word embedding plus its size(300 + 1)\n",
    "                        "
   ]
  },
  {
   "cell_type": "code",
   "execution_count": 7,
   "metadata": {},
   "outputs": [],
   "source": [
    "def sentence_embedder(sentence_list,model,language):\n",
    "    emb = []\n",
    "    for sentence in sentence_list:\n",
    "        save_last = sentence\n",
    "        if(len(sentence)>1):\n",
    "            emb.append(embedder(sentence,model,language))\n",
    "    return emb"
   ]
  },
  {
   "cell_type": "code",
   "execution_count": 8,
   "metadata": {},
   "outputs": [],
   "source": [
    "src_list = load_care('./sentences/src-train.txt')\n",
    "tgt_list = load_care('./sentences/tgt-train.txt')"
   ]
  },
  {
   "cell_type": "code",
   "execution_count": 9,
   "metadata": {},
   "outputs": [],
   "source": [
    "src_sentences = sentence_embedder(src_list[:100],src_model,'english')\n",
    "tgt_sentences = sentence_embedder(tgt_list[:100],tgt_model,'german')"
   ]
  },
  {
   "cell_type": "code",
   "execution_count": 10,
   "metadata": {},
   "outputs": [],
   "source": [
    "def generate_matrix(src_sentences,tgt_sentences):\n",
    "    matriz = np.zeros((len(src_sentences),len(tgt_sentences)))\n",
    "    for i in range(0,len(src_sentences)):\n",
    "        listou = []\n",
    "        for j in range(0,len(tgt_sentences)):\n",
    "             listou.append(1-spatial.distance.cosine(src_sentences[i],tgt_sentences[j]))\n",
    "        matriz = np.insert(matriz,i,listou,0)\n",
    "        np.savetxt(\"result_matrix.csv\",matriz, delimiter=\",\")\n",
    "\n",
    "\n"
   ]
  },
  {
   "cell_type": "code",
   "execution_count": 11,
   "metadata": {},
   "outputs": [],
   "source": [
    "generate_matrix(src_sentences,tgt_sentences)"
   ]
  }
 ],
 "metadata": {
  "kernelspec": {
   "display_name": "Python 3",
   "language": "python",
   "name": "python3"
  },
  "language_info": {
   "codemirror_mode": {
    "name": "ipython",
    "version": 3
   },
   "file_extension": ".py",
   "mimetype": "text/x-python",
   "name": "python",
   "nbconvert_exporter": "python",
   "pygments_lexer": "ipython3",
   "version": "3.7.1"
  }
 },
 "nbformat": 4,
 "nbformat_minor": 2
}
